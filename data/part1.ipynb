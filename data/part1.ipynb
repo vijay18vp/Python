{
 "cells": [
  {
   "cell_type": "code",
   "execution_count": null,
   "id": "b1899c70",
   "metadata": {},
   "outputs": [
    {
     "name": "stdout",
     "output_type": "stream",
     "text": [
      "1D array : 1\n",
      "Shape of 3D array : (3, 4, 5)\n",
      "Size of 2D array : 12\n",
      "2D array type :  int64\n",
      "itemsize :  8 bytes\n",
      "nbytes :  480 bytes\n"
     ]
    }
   ],
   "source": [
    "import numpy as np \n",
    "np.random.seed(0) #seed for reproducibility\n",
    "\n",
    "arr1d = np.random.randint(10, size=6)\n",
    "arr2d = np.random.randint(10, size=(3,4))\n",
    "arr3d = np.random.randint(10, size=(3,4,5))\n",
    "\n",
    "#each arrays has different number of dimensions , shape and size \n",
    "print(\"1D array :\" , arr1d.ndim)\n",
    "print(\"Shape of 3D array :\" , arr3d.shape)\n",
    "print(\"Size of 3D array :\" , arr3d.size)\n",
    "print(\"2D array type : \" , arr2d.dtype)\n",
    "print(\"itemsize : \" , arr3d.itemsize , \"bytes\")\n",
    "print(\"nbytes : \" , arr3d.nbytes , \"bytes\")"
   ]
  }
 ],
 "metadata": {
  "kernelspec": {
   "display_name": "Python 3",
   "language": "python",
   "name": "python3"
  },
  "language_info": {
   "codemirror_mode": {
    "name": "ipython",
    "version": 3
   },
   "file_extension": ".py",
   "mimetype": "text/x-python",
   "name": "python",
   "nbconvert_exporter": "python",
   "pygments_lexer": "ipython3",
   "version": "3.13.4"
  }
 },
 "nbformat": 4,
 "nbformat_minor": 5
}
