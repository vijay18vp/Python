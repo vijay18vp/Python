{
 "cells": [
  {
   "cell_type": "code",
   "execution_count": null,
   "id": "edcece9d",
   "metadata": {},
   "outputs": [
    {
     "name": "stdout",
     "output_type": "stream",
     "text": [
      "[1, 2, 3, 4, 5]\n",
      "[1.23 3.4  3.14]\n",
      "[3.14 3.   4.   5.   6.  ]\n",
      "[1.   2.   3.14 5.   6.  ]\n",
      "[[2 3 4]\n",
      " [4 5 6]\n",
      " [6 7 8]]\n",
      "[0 0 0 0 0 0 0 0 0 0]\n",
      "[[1 1 1]\n",
      " [1 1 1]\n",
      " [1 1 1]\n",
      " [1 1 1]]\n",
      "[[4.5 4.5 4.5 4.5 4.5]\n",
      " [4.5 4.5 4.5 4.5 4.5]\n",
      " [4.5 4.5 4.5 4.5 4.5]]\n",
      "[[0.34879695 0.76115722 0.52041039]\n",
      " [0.78959412 0.80477085 0.18733056]\n",
      " [0.71846605 0.7930424  0.39017982]]\n"
     ]
    }
   ],
   "source": [
    "import numpy as np \n",
    "import array as array\n",
    "np.__version__\n",
    "\n",
    "List = [1 , 2, 3, 4, 5]\n",
    "print(List) \n",
    "\n",
    "#creating an array using numpy \n",
    "array = np.array([1.23 , 3.4 , 3.14 ])\n",
    "print(array)\n",
    "\n",
    "# Arrays having different datatypes \n",
    "array2 = np.array([3.14 , 3  , 4 , 5, 6])\n",
    "print(array2)\n",
    "\n",
    "#to set the datatype explicitlyy in an array \n",
    "dTypeArray = np.array([1 , 2 , 3.14  ,  5 , 6 ] , dtype = 'float32')\n",
    "print(dTypeArray)\n",
    "\n",
    "#nested lists result in multidimensional arrays\n",
    "mdArray = np.array([range(i , i+ 3) for i in [2 , 4, 6]])\n",
    "print(mdArray)\n",
    "\n",
    "# creating an array from scratch\n",
    "zeroes = np.zeros(10 , dtype = int)\n",
    "print(zeroes)\n",
    "\n",
    "#creating a 4 * 3 array of int \n",
    "Ones = np.ones((4 , 3) , dtype = int )\n",
    "print(Ones)\n",
    "\n",
    "#to create a array with perticular number\n",
    "full = np.full((3 , 5) , 4.5)\n",
    "print(full)\n",
    "# to create an array with random values\n",
    "\n",
    "random = np.random.random((3 , 3))\n",
    "print(random)"
   ]
  }
 ],
 "metadata": {
  "kernelspec": {
   "display_name": "Python 3",
   "language": "python",
   "name": "python3"
  },
  "language_info": {
   "codemirror_mode": {
    "name": "ipython",
    "version": 3
   },
   "file_extension": ".py",
   "mimetype": "text/x-python",
   "name": "python",
   "nbconvert_exporter": "python",
   "pygments_lexer": "ipython3",
   "version": "3.13.4"
  }
 },
 "nbformat": 4,
 "nbformat_minor": 5
}
